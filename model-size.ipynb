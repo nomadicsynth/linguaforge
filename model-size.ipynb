{
 "cells": [
  {
   "cell_type": "code",
   "execution_count": 1,
   "metadata": {},
   "outputs": [],
   "source": [
    "from transformers import AutoModel"
   ]
  },
  {
   "cell_type": "code",
   "execution_count": 2,
   "metadata": {},
   "outputs": [],
   "source": [
    "# Load your model\n",
    "model = AutoModel.from_pretrained(\n",
    "    \"/mnt/ai-stuff-fast/training-results/mini-mistral-wikipedia-20231101.en-science-sci-fi-OpenHermes-2.5-chatML-Grokfast/training-run-20240630-213618/model\"\n",
    ")"
   ]
  },
  {
   "cell_type": "code",
   "execution_count": 4,
   "metadata": {},
   "outputs": [
    {
     "name": "stdout",
     "output_type": "stream",
     "text": [
      "The model has 326978560 parameters.\n"
     ]
    }
   ],
   "source": [
    "# Count the number of parameters\n",
    "total_params = sum(p.numel() for p in model.parameters())\n",
    "\n",
    "print(f\"The model has {total_params} parameters.\")"
   ]
  },
  {
   "cell_type": "code",
   "execution_count": 5,
   "metadata": {},
   "outputs": [
    {
     "name": "stdout",
     "output_type": "stream",
     "text": [
      "The model has 326.98M parameters.\n"
     ]
    }
   ],
   "source": [
    "# Print the number of parameters in M\n",
    "print(f\"The model has {total_params/1_000_000:.2f}M parameters.\")"
   ]
  },
  {
   "cell_type": "code",
   "execution_count": 3,
   "metadata": {},
   "outputs": [
    {
     "name": "stdout",
     "output_type": "stream",
     "text": [
      "The model has 326.98M parameters.\n"
     ]
    }
   ],
   "source": [
    "# Get the number of parameters from the model configuration\n",
    "print(f\"The model has {model.num_parameters()/1_000_000:.2f}M parameters.\")"
   ]
  },
  {
   "cell_type": "code",
   "execution_count": 5,
   "metadata": {},
   "outputs": [
    {
     "name": "stdout",
     "output_type": "stream",
     "text": [
      "MistralModel(\n",
      "  (embed_tokens): Embedding(32016, 1024, padding_idx=2)\n",
      "  (layers): ModuleList(\n",
      "    (0-32): 33 x MistralDecoderLayer(\n",
      "      (self_attn): MistralSdpaAttention(\n",
      "        (q_proj): Linear(in_features=1024, out_features=1024, bias=False)\n",
      "        (k_proj): Linear(in_features=1024, out_features=256, bias=False)\n",
      "        (v_proj): Linear(in_features=1024, out_features=256, bias=False)\n",
      "        (o_proj): Linear(in_features=1024, out_features=1024, bias=False)\n",
      "        (rotary_emb): MistralRotaryEmbedding()\n",
      "      )\n",
      "      (mlp): MistralMLP(\n",
      "        (gate_proj): Linear(in_features=1024, out_features=2048, bias=False)\n",
      "        (up_proj): Linear(in_features=1024, out_features=2048, bias=False)\n",
      "        (down_proj): Linear(in_features=2048, out_features=1024, bias=False)\n",
      "        (act_fn): SiLU()\n",
      "      )\n",
      "      (input_layernorm): MistralRMSNorm()\n",
      "      (post_attention_layernorm): MistralRMSNorm()\n",
      "    )\n",
      "  )\n",
      "  (norm): MistralRMSNorm()\n",
      ")\n"
     ]
    }
   ],
   "source": [
    "# Print the model architecture\n",
    "print(model)"
   ]
  }
 ],
 "metadata": {
  "kernelspec": {
   "display_name": ".venv",
   "language": "python",
   "name": "python3"
  },
  "language_info": {
   "codemirror_mode": {
    "name": "ipython",
    "version": 3
   },
   "file_extension": ".py",
   "mimetype": "text/x-python",
   "name": "python",
   "nbconvert_exporter": "python",
   "pygments_lexer": "ipython3",
   "version": "3.12.3"
  }
 },
 "nbformat": 4,
 "nbformat_minor": 2
}
