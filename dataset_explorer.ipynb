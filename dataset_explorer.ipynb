{
 "cells": [
  {
   "cell_type": "code",
   "execution_count": 1,
   "metadata": {},
   "outputs": [],
   "source": [
    "from transformers import AutoTokenizer\n",
    "from datasets import Dataset, load_dataset\n",
    "\n",
    "dataset_path = \"/media/gronkomatic/Embiggen/ai-stuff/datasets/OpenHermes-2.5/openhermes2_5.json\"\n",
    "new_dataset_path = \"/media/gronkomatic/Embiggen/ai-stuff/datasets/OpenHermes-2.5-chatML\"\n",
    "model_path = \"/media/gronkomatic/Embiggen/ai-stuff/training-results/runs/run-20240315-211134/checkpoint-70180\""
   ]
  },
  {
   "cell_type": "code",
   "execution_count": 2,
   "metadata": {},
   "outputs": [],
   "source": [
    "tokenizer = AutoTokenizer.from_pretrained(model_path)\n",
    "tokenizer.chat_template = \"{% if not add_generation_prompt is defined %}{% set add_generation_prompt = false %}{% endif %}{% for message in messages %}{{'<|im_start|>' + message['role'] + '\\n' + message['content'] + '<|im_end|>' + '\\n'}}{% endfor %}{% if add_generation_prompt %}{{ '<|im_start|>assistant\\n' }}{% endif %}\""
   ]
  },
  {
   "cell_type": "code",
   "execution_count": 10,
   "metadata": {},
   "outputs": [
    {
     "data": {
      "text/plain": [
       "32000"
      ]
     },
     "execution_count": 10,
     "metadata": {},
     "output_type": "execute_result"
    }
   ],
   "source": [
    "len(tokenizer)"
   ]
  },
  {
   "cell_type": "code",
   "execution_count": null,
   "metadata": {},
   "outputs": [],
   "source": [
    "dataset = load_dataset(dataset_path)\n",
    "dataset"
   ]
  },
  {
   "cell_type": "code",
   "execution_count": 5,
   "metadata": {},
   "outputs": [
    {
     "data": {
      "text/plain": [
       "{'idx': None,\n",
       " 'topic': None,\n",
       " 'model_name': None,\n",
       " 'hash': None,\n",
       " 'language': None,\n",
       " 'custom_instruction': None,\n",
       " 'id': None,\n",
       " 'conversations': [{'from': 'human',\n",
       "   'value': 'Every day, a tree drops 7 leaves. How many leaves would it drop in a month of February in a non-leap year? Include your logic.',\n",
       "   'weight': None},\n",
       "  {'from': 'gpt',\n",
       "   'value': \"Here's the logic behind this:\\n\\n1. We know that February has 28 days in a non-leap year.\\n2. If the tree drops 7 leaves every day, then over the course of February, it would drop:\\n   Leaves dropped in February = Leaves per day * Days in February\\n   = 7 leaves * 28 days\\n   = 196 leaves\\n\\nSo, the tree would drop 196 leaves in February in a non-leap year.\",\n",
       "   'weight': None}],\n",
       " 'source': 'airoboros2.2',\n",
       " 'system_prompt': None,\n",
       " 'category': 'orca',\n",
       " 'skip_prompt_formatting': False,\n",
       " 'avatarUrl': None,\n",
       " 'title': None,\n",
       " 'views': None,\n",
       " 'model': None}"
      ]
     },
     "execution_count": 5,
     "metadata": {},
     "output_type": "execute_result"
    }
   ],
   "source": [
    "dataset[\"train\"][0]"
   ]
  },
  {
   "cell_type": "code",
   "execution_count": 4,
   "metadata": {},
   "outputs": [
    {
     "data": {
      "text/plain": [
       "DatasetDict({\n",
       "    train: Dataset({\n",
       "        features: ['idx', 'topic', 'model_name', 'hash', 'language', 'custom_instruction', 'id', 'conversations', 'source', 'system_prompt', 'category', 'skip_prompt_formatting', 'avatarUrl', 'title', 'views', 'model'],\n",
       "        num_rows: 1001551\n",
       "    })\n",
       "})"
      ]
     },
     "execution_count": 4,
     "metadata": {},
     "output_type": "execute_result"
    }
   ],
   "source": [
    "dataset = load_dataset(\"json\", data_files=dataset_path)\n",
    "# dataset = dataset.shuffle()\n",
    "dataset"
   ]
  },
  {
   "cell_type": "code",
   "execution_count": null,
   "metadata": {},
   "outputs": [],
   "source": [
    "dataset = dataset[\"train\"].select(range(10))\n",
    "dataset"
   ]
  },
  {
   "cell_type": "code",
   "execution_count": 6,
   "metadata": {},
   "outputs": [
    {
     "data": {
      "text/plain": [
       "[{'content': 'Every day, a tree drops 7 leaves. How many leaves would it drop in a month of February in a non-leap year? Include your logic.',\n",
       "  'role': 'human'},\n",
       " {'content': \"Here's the logic behind this:\\n\\n1. We know that February has 28 days in a non-leap year.\\n2. If the tree drops 7 leaves every day, then over the course of February, it would drop:\\n   Leaves dropped in February = Leaves per day * Days in February\\n   = 7 leaves * 28 days\\n   = 196 leaves\\n\\nSo, the tree would drop 196 leaves in February in a non-leap year.\",\n",
       "  'role': 'assistant'}]"
      ]
     },
     "execution_count": 6,
     "metadata": {},
     "output_type": "execute_result"
    }
   ],
   "source": [
    "# Define a function to rename the keys\n",
    "def rename_keys(example):\n",
    "    new_conversations = []\n",
    "    for conv in example['conversations']:\n",
    "        if conv[\"from\"] == \"gpt\":\n",
    "            conv[\"from\"] = \"assistant\"\n",
    "            \n",
    "        new_conversations.append({\n",
    "            \"role\": conv[\"from\"],\n",
    "            \"content\": conv[\"value\"]\n",
    "        })\n",
    "    return {\n",
    "        \"conversations\": new_conversations\n",
    "    }\n",
    "\n",
    "\n",
    "# Apply the function to the dataset\n",
    "renamed_dataset = dataset.map(rename_keys)\n",
    "renamed_dataset[\"train\"][\"conversations\"][0]"
   ]
  },
  {
   "cell_type": "code",
   "execution_count": 7,
   "metadata": {},
   "outputs": [
    {
     "data": {
      "application/vnd.jupyter.widget-view+json": {
       "model_id": "d552880eb7d743cfaf778982f181dc5a",
       "version_major": 2,
       "version_minor": 0
      },
      "text/plain": [
       "Map:   0%|          | 0/1001551 [00:00<?, ? examples/s]"
      ]
     },
     "metadata": {},
     "output_type": "display_data"
    },
    {
     "data": {
      "text/plain": [
       "DatasetDict({\n",
       "    train: Dataset({\n",
       "        features: ['idx', 'topic', 'model_name', 'hash', 'language', 'custom_instruction', 'id', 'source', 'system_prompt', 'category', 'skip_prompt_formatting', 'avatarUrl', 'title', 'views', 'model', 'text'],\n",
       "        num_rows: 1001551\n",
       "    })\n",
       "})"
      ]
     },
     "execution_count": 7,
     "metadata": {},
     "output_type": "execute_result"
    }
   ],
   "source": [
    "dataset = renamed_dataset.map(lambda x: {\"text\": tokenizer.apply_chat_template(\n",
    "    x[\"conversations\"], tokenize=False, add_generation_prompt=False)}, remove_columns=[\"conversations\"])\n",
    "dataset"
   ]
  },
  {
   "cell_type": "code",
   "execution_count": 8,
   "metadata": {},
   "outputs": [
    {
     "data": {
      "text/plain": [
       "{'idx': None,\n",
       " 'topic': None,\n",
       " 'model_name': None,\n",
       " 'hash': None,\n",
       " 'language': None,\n",
       " 'custom_instruction': None,\n",
       " 'id': None,\n",
       " 'source': 'airoboros2.2',\n",
       " 'system_prompt': None,\n",
       " 'category': 'orca',\n",
       " 'skip_prompt_formatting': False,\n",
       " 'avatarUrl': None,\n",
       " 'title': None,\n",
       " 'views': None,\n",
       " 'model': None,\n",
       " 'text': \"<|im_start|>human\\nEvery day, a tree drops 7 leaves. How many leaves would it drop in a month of February in a non-leap year? Include your logic.<|im_end|>\\n<|im_start|>assistant\\nHere's the logic behind this:\\n\\n1. We know that February has 28 days in a non-leap year.\\n2. If the tree drops 7 leaves every day, then over the course of February, it would drop:\\n   Leaves dropped in February = Leaves per day * Days in February\\n   = 7 leaves * 28 days\\n   = 196 leaves\\n\\nSo, the tree would drop 196 leaves in February in a non-leap year.<|im_end|>\\n\"}"
      ]
     },
     "execution_count": 8,
     "metadata": {},
     "output_type": "execute_result"
    }
   ],
   "source": [
    "dataset[\"train\"][0]"
   ]
  },
  {
   "cell_type": "code",
   "execution_count": 9,
   "metadata": {},
   "outputs": [
    {
     "data": {
      "application/vnd.jupyter.widget-view+json": {
       "model_id": "c7d78c79ed684165b7d583c61d4aedca",
       "version_major": 2,
       "version_minor": 0
      },
      "text/plain": [
       "Saving the dataset (0/4 shards):   0%|          | 0/1001551 [00:00<?, ? examples/s]"
      ]
     },
     "metadata": {},
     "output_type": "display_data"
    }
   ],
   "source": [
    "dataset.save_to_disk(new_dataset_path)"
   ]
  }
 ],
 "metadata": {
  "kernelspec": {
   "display_name": ".venv",
   "language": "python",
   "name": "python3"
  },
  "language_info": {
   "codemirror_mode": {
    "name": "ipython",
    "version": 3
   },
   "file_extension": ".py",
   "mimetype": "text/x-python",
   "name": "python",
   "nbconvert_exporter": "python",
   "pygments_lexer": "ipython3",
   "version": "3.11.8"
  }
 },
 "nbformat": 4,
 "nbformat_minor": 2
}
