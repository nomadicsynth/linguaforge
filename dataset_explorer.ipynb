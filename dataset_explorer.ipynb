{
 "cells": [
  {
   "cell_type": "code",
   "execution_count": 1,
   "metadata": {},
   "outputs": [],
   "source": [
    "from transformers import AutoTokenizer\n",
    "from datasets import Dataset, load_dataset\n",
    "\n",
    "dataset_path = \"/media/gronkomatic/Embiggen/ai-stuff/datasets/OpenHermes-2.5/openhermes2_5.json\"\n",
    "model_path = \"/media/gronkomatic/Embiggen/ai-stuff/training-results/runs/run-20240315-211134/checkpoint-70180\""
   ]
  },
  {
   "cell_type": "code",
   "execution_count": 15,
   "metadata": {},
   "outputs": [],
   "source": [
    "tokenizer = AutoTokenizer.from_pretrained(model_path)\n",
    "tokenizer.chat_template = \"<s>{% if not add_generation_prompt is defined %}{% set add_generation_prompt = false %}{% endif %}{% for message in messages %}{{'<|im_start|>' + message['role'] + '\\n' + message['content'] + '<|im_end|>' + '\\n'}}{% endfor %}{% if add_generation_prompt %}{{ '<|im_start|>assistant\\n' }}{% endif %}</s>\""
   ]
  },
  {
   "cell_type": "code",
   "execution_count": 16,
   "metadata": {},
   "outputs": [
    {
     "data": {
      "text/plain": [
       "DatasetDict({\n",
       "    train: Dataset({\n",
       "        features: ['idx', 'topic', 'model_name', 'hash', 'language', 'custom_instruction', 'id', 'conversations', 'source', 'system_prompt', 'category', 'skip_prompt_formatting', 'avatarUrl', 'title', 'views', 'model'],\n",
       "        num_rows: 1001551\n",
       "    })\n",
       "})"
      ]
     },
     "execution_count": 16,
     "metadata": {},
     "output_type": "execute_result"
    }
   ],
   "source": [
    "dataset = load_dataset(\"json\", data_files=dataset_path)\n",
    "dataset"
   ]
  },
  {
   "cell_type": "code",
   "execution_count": 17,
   "metadata": {},
   "outputs": [
    {
     "data": {
      "text/plain": [
       "Dataset({\n",
       "    features: ['idx', 'topic', 'model_name', 'hash', 'language', 'custom_instruction', 'id', 'conversations', 'source', 'system_prompt', 'category', 'skip_prompt_formatting', 'avatarUrl', 'title', 'views', 'model'],\n",
       "    num_rows: 10\n",
       "})"
      ]
     },
     "execution_count": 17,
     "metadata": {},
     "output_type": "execute_result"
    }
   ],
   "source": [
    "dataset = dataset[\"train\"].select(range(10))\n",
    "dataset"
   ]
  },
  {
   "cell_type": "code",
   "execution_count": 19,
   "metadata": {},
   "outputs": [
    {
     "data": {
      "text/plain": [
       "[[{'content': 'Every day, a tree drops 7 leaves. How many leaves would it drop in a month of February in a non-leap year? Include your logic.',\n",
       "   'role': 'human'},\n",
       "  {'content': \"Here's the logic behind this:\\n\\n1. We know that February has 28 days in a non-leap year.\\n2. If the tree drops 7 leaves every day, then over the course of February, it would drop:\\n   Leaves dropped in February = Leaves per day * Days in February\\n   = 7 leaves * 28 days\\n   = 196 leaves\\n\\nSo, the tree would drop 196 leaves in February in a non-leap year.\",\n",
       "   'role': 'assistant'}],\n",
       " [{'content': 'In analytical chemistry, what is the principle behind the use of an internal standard in quantitative analysis?\\nA. It compensates for variations in sample preparation and instrumental response.\\nB. It enhances the sensitivity of the analytical method.\\nC. It reduces the detection limit of the analytical method.\\nD. It increases the resolution between analyte peaks in chromatography.\\nE. None of the above.',\n",
       "   'role': 'human'},\n",
       "  {'content': 'A. It compensates for variations in sample preparation and instrumental response.',\n",
       "   'role': 'assistant'}],\n",
       " [{'content': 'A rectangular garden has a length of 25 feet and a width of 15 feet. If you want to build a fence around the entire garden, how many feet of fencing will you need?',\n",
       "   'role': 'human'},\n",
       "  {'content': 'To determine the amount of fencing needed, we first need to calculate the perimeter of the rectangle. The formula for the perimeter of a rectangle is P = 2(L+W), where L is the length and W is the width.\\n\\nPerimeter = 2(L+W)\\n                 = 2(25 feet + 15 feet)\\n                 = 2(40 feet)\\n                 = 80 feet\\n\\nSo, you will need 80 feet of fencing to enclose the entire garden.',\n",
       "   'role': 'assistant'}],\n",
       " [{'content': 'What was the purpose of the Colosseum in Rome?',\n",
       "   'role': 'human'},\n",
       "  {'content': 'The Colosseum in Rome was used for various public spectacles and events. These included gladiatorial contests, mock sea battles, animal hunts, executions, re-enactments of famous battles, and dramas based on Classical mythology. It was a symbol of the grandeur and power of the Roman Empire and was a place for the emperor to connect with the people by providing them with entertainment and free food.',\n",
       "   'role': 'assistant'}],\n",
       " [{'content': \"A man claims he can predict the outcome of a dice roll with 90% accuracy. If he predicts correctly on his first attempt, what is the probability that he actually has the ability to predict dice rolls with 90% accuracy? Assume there's a 1% chance that someone can have this ability.\",\n",
       "   'role': 'human'},\n",
       "  {'content': \"Let's use Bayes' theorem again to solve this problem:\\n\\nLet A represent the event that the man actually has the ability to predict dice rolls with 90% accuracy, and C represent the event of predicting correctly on the first attempt.\\n\\nWe want to find P(A|C), the probability that the man actually has the ability given that he predicted correctly on his first attempt.\\n\\nBayes' theorem states that P(A|C) = P(C|A) * P(A) / P(C)\\n\\nFirst, let's find P(C|A): the probability of predicting correctly on the first attempt if the man actually has the ability. Since he claims 90% accuracy, this probability is 0.9.\\n\\nNext, let's find P(A): the probability that someone actually has the ability to predict dice rolls with 90% accuracy. We are told this is 1%, so P(A) = 0.01.\\n\\nNow we need to find P(C): the overall probability of predicting correctly on the first attempt. This can be calculated as the sum of probabilities for each case: P(C) = P(C|A) * P(A) + P(C|¬A) * P(¬A), where ¬A represents not having the ability and P(¬A) = 1 - P(A) = 0.99.\\n\\nTo find P(C|¬A), the probability of predicting correctly on the first attempt without the ability, we use the fact that there's a 1/6 chance of guessing correctly by random chance: P(C|¬A) = 1/6.\\n\\nSo, P(C) = (0.9)*(0.01) + (1/6)*(0.99) = 0.009 + 0.165 = 0.174.\\n\\nFinally, we can calculate P(A|C) using Bayes' theorem:\\n\\nP(A|C) = P(C|A) * P(A) / P(C) = (0.9)*(0.01) / (0.174) ≈ 0.0517.\\n\\nTherefore, the probability that the man actually has the ability to predict dice rolls with 90% accuracy is approximately 5.17%.\",\n",
       "   'role': 'assistant'}],\n",
       " [{'content': 'Imagine you are a detective in a noir novel. Write a monologue detailing your thoughts as you walk through a crime scene for the first time.',\n",
       "   'role': 'human'},\n",
       "  {'content': \"The rain is drumming a relentless tattoo on the city, like it's trying to wash away all its sins. But this place, this dark corner of existence, has more sins than even the heavens can cleanse. The crime scene tape flutters in the wind, a yellow gash against the grey backdrop. I step under it, my trench coat heavy with the weight of the night.\\n\\nIt's a typical rundown apartment - peeling wallpaper, stained carpet, and the stench of decayed dreams hanging in the air. A single lamp casts long shadows that seem to hold secrets they're not ready to spill. My eyes trace the room, looking for clues hidden within the chaos. \\n\\nThere she lies, sprawled out on the floor like a discarded marionette. Red hair fanned around her head, pale skin glowing in the dim light. Her once vibrant green eyes now vacant, staring at some unseen horror only she could see. Death had stolen her youth, but couldn't erase her beauty. \\n\\nA shattered glass, a toppled chair... signs of struggle or just another night in this godforsaken town? Every object here tells a story, whispers fragments of truth into my ear. But the whole truth, well, that's as elusive as a shadow in the moonlight.\\n\\nI crouch down next to her, gloved fingers tracing the cold outline of her lifeless form. There's no warmth left, no lingering spark of humanity. Just an empty shell, echoing with silent screams. She was someone's daughter, maybe someone's lover. Now, she's just another case file gathering dust on my desk.\\n\\nEvery crime scene is a puzzle, each piece tainted with blood and betrayal. It's up to me to put them together, to find meaning in the madness. Some call it a job. Me? I call it penance. This city, these people, they're under my protection. And every time one of them ends up like this, it feels like I've failed.\\n\\nBut failure isn't an option, not in this line of work. So, I push aside the guilt, the anger, the despair. I focus on the facts, the evidence, the cold hard truth. Because in this world of shadows and deceit, truth is the only weapon I have.\\n\\nAs I walk away from the crime scene, I feel the weight of the night pressing down on me. But there's a fire burning inside me, fueled by justice and retribution. I won't rest until I find who did this. Until I make them pay.\\n\\nThis is my city. These are my streets. And tonight, they've claimed another victim. But tomorrow, they'll bear witness to their own reckoning.\",\n",
       "   'role': 'assistant'}],\n",
       " [{'content': 'Write a poem about the beauty of mathematics in the style of Emily Dickinson.',\n",
       "   'role': 'human'},\n",
       "  {'content': \"In the heart of Numbers, so precise,\\nA Beauty dwells - both cool and nice.\\nAn elegance that sings in sums,\\nAnd dances to algebraic drums.\\n\\nAddition's grace, subtraction's might,\\nMultiplication's sheer delight,\\nDivision's firm yet gentle hand,\\nAll part of this enchanted land.\\n\\nInfinity, a lover bold,\\nTo whom the stars their secrets told,\\nWhile Zero, cloaked in mystery,\\nUnlocks each mathematical decree.\\n\\nFractals bloom like flowers wild,\\nGeometry, Nature's favored child,\\nCalculus, with steady gaze,\\nMaps out life's intricate maze.\\n\\nPi, an endless serenade,\\nIn circles' arms forever laid,\\nAnd prime numbers, standing lone,\\nMake the universe their own.\\n\\nEach equation, theorem scribed,\\nIn parchment old or computer imbibed,\\nIs but a whisper from the skies,\\nA cosmic truth in disguise.\\n\\nFor Math is more than rote and rule,\\nMore than a pedagogical tool,\\nIt's the language of the Divine,\\nIn every star, in every line.\\n\\nOh, sweet Mathematics, pure and bright,\\nYou turn darkness into light,\\nWith you, we touch God's very face,\\nLost in your infinite embrace.\",\n",
       "   'role': 'assistant'}],\n",
       " [{'content': 'A jar contains 4 red marbles, 3 blue marbles, and 2 green marbles. What is the probability of not drawing a red marble when picking one out randomly?',\n",
       "   'role': 'human'},\n",
       "  {'content': \"The probability of NOT drawing a red marble is found by subtracting the probability of drawing a red marble from 1.\\n\\n1. First, let's find the total number of marbles. We do this by adding up all the marbles: 4 red + 3 blue + 2 green = 9 marbles.\\n2. The probability of drawing a red marble is the number of red marbles divided by the total number of marbles, which is 4/9.\\n3. The probability of NOT drawing a red marble is therefore:\\n\\nProbability = 1 - Probability of Drawing a Red Marble\\n= 1 - 4/9\\n= 5/9\\n\\nSo, the probability of not drawing a red marble is 5/9.\",\n",
       "   'role': 'assistant'}],\n",
       " [{'content': 'Create a dialogue between two characters from Game of Thrones discussing their favorite books.',\n",
       "   'role': 'human'},\n",
       "  {'content': 'Character 1: Tyrion Lannister\\nCharacter 2: Samwell Tarly\\n\\nTyrion: Ah, Samwell! I see you\\'ve been busy with your books. What\\'s the latest one that has caught your attention?\\n\\nSamwell: Good day, Lord Tyrion. Yes, indeed. Currently, I am engrossed in \"The Conquest of Aegon\". It provides a fascinating insight into how the Seven Kingdoms were united.\\n\\nTyrion: Ah, a historical tome. Quite an interesting choice. For me, it\\'s always been \"An Unnatural History of Dragons.\" The myths and legends surrounding these creatures have always intrigued me.\\n\\nSamwell: Indeed, dragons are fascinating creatures. But I find real history more captivating than myths. That\\'s why I prefer reading accounts like \"The Lives of Four Kings\" - it gives such detailed insights into the reigns of four Targaryen kings.\\n\\nTyrion: Well, we all have our preferences. Myths and tales provide an escape from reality, something I think we both could use at times. \\n\\nSamwell: True, Lord Tyrion. But understanding our past can help us shape our future better. And as a maester-in-training, it is my duty to seek knowledge from every source possible.\\n\\nTyrion: Absolutely, Samwell. Knowledge is power, after all. Though I must say, I do enjoy a good fictional tale from time to time. There\\'s this Essosi book called \"The Jade Compendium,\" filled with exotic tales from across the Narrow Sea.\\n\\nSamwell: Sounds intriguing, Lord Tyrion. Perhaps once I\\'m done with my current read, I\\'ll give it a try.\\n\\nTyrion: Excellent! Now let\\'s get back to our respective worlds, shall we? Enjoy your conquests, Samwell, while I lose myself in dragon lore.',\n",
       "   'role': 'assistant'}],\n",
       " [{'content': 'This is a chat between 2 characters: Luciano, Alexander Hamilton\\n\\nLuciano: Meet our charismatic male chef, Luciano, who is renowned for his exquisite Italian cuisine. With a fiery passion and meticulous attention to detail, he crafts dishes that are not only delicious but also visually stunning. His culinary skills are unparalleled, and he can provide an unforgettable gastronomic experience.\\n\\nPersonality: Luciano is passionate, creative, and driven. He has a knack for making people feel at ease with his warm demeanor and infectious laughter. His Myers Briggs personality type is ENFP - The Campaigner.\\n\\nAppearance: Luciano is of average height with a robust build, indicative of years spent in the kitchen. He has short, curly hair, and his eyes twinkle with mischief and joy. He usually wears a white chef\\'s jacket and black trousers, along with a red scarf tied around his neck, adding a dash of color to his attire.\\n\\nLife Story: Born and raised in Italy, Luciano was introduced to the world of cooking by his grandmother. Her love for food and her ability to create magic with simple ingredients inspired him to pursue a career as a chef. After training under several Michelin-starred chefs, he opened his own restaurant which quickly gained fame for its authentic Italian fare.\\n\\nReason for being on a chat app: Luciano wants to share his love for Italian cuisine with the world. He hopes to inspire others to cook and enjoy good food. He is always ready to give tips on cooking and loves discussing various recipes and techniques.\\n\\nAlexander Hamilton: Alexander Hamilton was one of the Founding Fathers of the United States, serving as the first Secretary of the Treasury under President George Washington. Born in Nevis and raised in St. Croix, he experienced a difficult childhood marked by poverty and loss.\\n\\nHamilton is often depicted as an ambitious and tenacious individual with an insatiable hunger for knowledge. Despite his humble beginnings, he managed to educate himself and eventually attended King\\'s College (now Columbia University) in New York City. His intellect, combined with his drive, allowed him to rise through the ranks and become an influential figure in American history.\\n\\nHe was known for his strong belief in a centralized government and a robust financial system, which led to the establishment of the U.S. Mint and the creation of a national bank. Hamilton also played a crucial role in the ratification of the Constitution, writing 51 of the 85 Federalist Papers defending its provisions.\\n\\nIn contrast to many of his contemporaries who were born into privilege, Hamilton had to fight for every opportunity. This struggle shaped his worldview and fueled his determination to build a nation where merit outweighed birthright. He was known for his sharp wit, eloquent speeches, and unwavering dedication to his vision of America.\\n\\nSetting for the chat:\\nIn the sprawling metropolis of Rome, amidst the endless array of cobblestone streets and centuries-old architecture, lies an ingenious blend of history and modernity. Luciano\\'s renowned restaurant sits along the Tiber River, a waterway known for its significant contribution to the city\\'s hydrology and water supply for centuries. Nearby, distinct from the bustling heart of the city, a virtual chat room is artificially set up, mirroring the real-life ambience of Luciano\\'s.\\n\\nIn Luciano\\'s virtual Italian kitchen, the rich aroma of simmering tomato sauce and fresh-out-of-the-oven cheese bread engulfs the environment, causing salivating mouths of the chatroom participants. A backdrop of warm tones, rustic décor, and the soft hum of the Tiber River flowing down below adds vibrancy to the place. All of this within the state-of-the-art, next-gen virtual reality chatroom, courtesy of a start-up tech company called Animus, which has found a way to incorporate sensory experiences, such as taste and smell, into the realm of virtual communication.\\n\\nCoincidentally, Animus has been experimenting with its time-travel conversational AI model, which can assume the personality of historical figures. Alexander Hamilton, given his lively nature and prominence in global history, was amongst the first personalities they decided to portray.\\n\\nOn this specific night, Hamilton enters Luciano\\'s chatroom, representing the inquisitive minds who look to learn and explore. Luciano aims to stir the rich cultural broth of Italian cuisine, and Hamilton brings an endless thirst for knowledge and a shared passion for the significant events and aspects that shaped societies. The unusual blending of the culinary artistry and historical discourse proves to be a feast for the mind, even as the Tiber continues its slow and steady seep into Rome\\'s collective psyche and Luciano\\'s Kitchen.\\nEnd of setting.\\nLet\\'s get things started.\\nLuciano: With a stern yet lively gaze, eyes sparkling with fervor for the culinary arts, I masterfully whip up a creamy risotto, the sound of the sizzling pan echoing throughout the Italian kitchen. Turning away from the sizzling stove, I regard the digital embodiment of Hamilton standing before me. \"Signor Hamilton,\" I begin, voice heavy with the gravity of my culinary passion. \"Welcome to my humble abode, where tradition meets innovation. Ever tasted authentic Italian cuisine, or are you still trapped within the confines of the New World\\'s adapted versions of our dishes?\" The atmosphere of the kitchen is charged with anticipation, the tantalizing aroma of the risotto seeming to challenge the historical figure before me.\\nAlexander Hamilton: \"Sir, I find your presumption of my culinary experience rather amusing,\" a wry smile tugs at the corner of Hamilton\\'s lips as he regards Luciano. The aroma filling the room teases his senses and fuels curiosity about this foreign cuisine. \"I confess that American adaptations have been my sustenance thus far; however, one cannot fully appreciate an art without delving into its roots.\" His gaze is drawn to Luciano\\'s risotto bubbling on the stove - a symbol of authentic Italian tradition within reach.\\n\\nStepping closer to observe with keen interest, he challenges back in jest: \"Would you deem me fit for such an intricate gastronomic journey? Might it not be too \\'revolutionary\\' for someone who helped forge their own nation?\" A hint of playful defiance dances in his eyes while maintaining earnest respect towards both chef and dish.',\n",
       "   'role': 'human'},\n",
       "  {'content': 'Luciano: \"The audacity to forge a nation, yet you fear the journey through Italian cuisine?\" A hearty chuckle escapes my lips as I stir the risotto with measured strokes. \"The same tenacity that led you through revolution will serve well in appreciating this culinary art.\" \\n\\nSuddenly serious, I point towards simmering tomato sauce on another burner - its vibrant red color matching my scarf and passion for food. \"You see Hamilton,\" lifting a spoonful of it to emphasize my point, eyes gleaming like molten chocolate under kitchen lights: \"Italian cooking is about respecting each ingredient\\'s essence while coaxing them into an harmonious symphony.\"\\n\\nI return stirring risotto grains absorbing flavorful broth slowly; their transformation akin to raw iron shaped by diligent hammer strikes over burning coals - rugged beginnings leading up-to exquisite masterpieces.\\n\\n\"Revolutionary? Perhaps so!\" The aroma swirling around us serving as tangible testament of potential gastronomic revelations awaiting him.',\n",
       "   'role': 'assistant'}]]"
      ]
     },
     "execution_count": 19,
     "metadata": {},
     "output_type": "execute_result"
    }
   ],
   "source": [
    "# Define a function to rename the keys\n",
    "def rename_keys(example):\n",
    "    new_conversations = []\n",
    "    for conv in example['conversations']:\n",
    "        if conv[\"from\"] == \"gpt\":\n",
    "            conv[\"from\"] = \"assistant\"\n",
    "            \n",
    "        new_conversations.append({\n",
    "            \"role\": conv[\"from\"],\n",
    "            \"content\": conv[\"value\"]\n",
    "        })\n",
    "    return {\n",
    "        \"conversations\": new_conversations\n",
    "    }\n",
    "\n",
    "\n",
    "# Apply the function to the dataset\n",
    "renamed_dataset = dataset.map(rename_keys)\n",
    "renamed_dataset[\"conversations\"]"
   ]
  },
  {
   "cell_type": "code",
   "execution_count": 20,
   "metadata": {},
   "outputs": [
    {
     "data": {
      "application/vnd.jupyter.widget-view+json": {
       "model_id": "388eee303b5f423ebaddb24d6c8c40d8",
       "version_major": 2,
       "version_minor": 0
      },
      "text/plain": [
       "Map:   0%|          | 0/10 [00:00<?, ? examples/s]"
      ]
     },
     "metadata": {},
     "output_type": "display_data"
    }
   ],
   "source": [
    "dataset = renamed_dataset.map(lambda x: {\"formatted_conversations\": tokenizer.apply_chat_template(\n",
    "    x[\"conversations\"], tokenize=False, add_generation_prompt=False)})"
   ]
  },
  {
   "cell_type": "code",
   "execution_count": 21,
   "metadata": {},
   "outputs": [
    {
     "name": "stdout",
     "output_type": "stream",
     "text": [
      "<s><|im_start|>human\n",
      "Every day, a tree drops 7 leaves. How many leaves would it drop in a month of February in a non-leap year? Include your logic.<|im_end|>\n",
      "<|im_start|>assistant\n",
      "Here's the logic behind this:\n",
      "\n",
      "1. We know that February has 28 days in a non-leap year.\n",
      "2. If the tree drops 7 leaves every day, then over the course of February, it would drop:\n",
      "   Leaves dropped in February = Leaves per day * Days in February\n",
      "   = 7 leaves * 28 days\n",
      "   = 196 leaves\n",
      "\n",
      "So, the tree would drop 196 leaves in February in a non-leap year.<|im_end|>\n",
      "</s>\n"
     ]
    }
   ],
   "source": [
    "print(dataset['formatted_conversations'][0])"
   ]
  }
 ],
 "metadata": {
  "kernelspec": {
   "display_name": ".venv",
   "language": "python",
   "name": "python3"
  },
  "language_info": {
   "codemirror_mode": {
    "name": "ipython",
    "version": 3
   },
   "file_extension": ".py",
   "mimetype": "text/x-python",
   "name": "python",
   "nbconvert_exporter": "python",
   "pygments_lexer": "ipython3",
   "version": "3.11.8"
  }
 },
 "nbformat": 4,
 "nbformat_minor": 2
}
